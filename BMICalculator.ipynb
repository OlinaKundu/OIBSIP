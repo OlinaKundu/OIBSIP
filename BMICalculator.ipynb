{
 "cells": [
  {
   "cell_type": "code",
   "execution_count": 3,
   "id": "eed5aaf9-0c4b-4659-b1ce-9337fe284836",
   "metadata": {},
   "outputs": [],
   "source": [
    "# Create a command-line BMI calculator in python. Prompt users for their weight(kg) and height(m).\n",
    "# Calculate the BMI and classify it into categories(eg.underwight,normal,overweight)based on predefined ranges.\n",
    "# Display the BMI results and category to the user."
   ]
  },
  {
   "cell_type": "code",
   "execution_count": 1,
   "id": "77fa8b9d-60c1-42b7-af7e-054a66dcc117",
   "metadata": {},
   "outputs": [],
   "source": [
    "# Underweight = less than 18.5\n",
    "# Normal = more or equal to 18.5 and less than 25\n",
    "# Overweight = more or equal to 25 and less than 30\n",
    "# Obesity = 30 or more\n",
    "\n",
    "# BMI= weight/float(height*height);"
   ]
  },
  {
   "cell_type": "code",
   "execution_count": 13,
   "id": "e435d5ff-6bb3-4c5f-929f-217889f4b3d0",
   "metadata": {},
   "outputs": [
    {
     "name": "stdin",
     "output_type": "stream",
     "text": [
      "Enter your height in meters:  1.654\n",
      "Enter your weight in kilograms:  51\n"
     ]
    },
    {
     "name": "stdout",
     "output_type": "stream",
     "text": [
      "Your BMI is 18.642285968280337\n",
      "Your BMI is normal.\n"
     ]
    }
   ],
   "source": [
    "height = eval(input(\"Enter your height in meters: \"))\n",
    "weight = eval(input(\"Enter your weight in kilograms: \"))\n",
    "bmi = weight/(height)**2\n",
    "if bmi<18.5:\n",
    "    print(f'Your BMI is {bmi}\\nAccording to your BMI you are underweight.')\n",
    "elif 18.5<=bmi<25 :\n",
    "    print(f'Your BMI is {bmi}\\nAccording to your BMI you are normal.')\n",
    "elif 25<=bmi<30:\n",
    "    print(f'Your BMI id {bmi}\\nAccording to your BMI you are overweight.')\n",
    "else:\n",
    "    print(f'Your BMI is {bmi}\\nAccording to your BMI you are obesed.')"
   ]
  },
  {
   "cell_type": "code",
   "execution_count": null,
   "id": "a4e0c98a-16c8-4953-91bb-f6efdd1d224a",
   "metadata": {},
   "outputs": [],
   "source": []
  }
 ],
 "metadata": {
  "kernelspec": {
   "display_name": "Python 3 (ipykernel)",
   "language": "python",
   "name": "python3"
  },
  "language_info": {
   "codemirror_mode": {
    "name": "ipython",
    "version": 3
   },
   "file_extension": ".py",
   "mimetype": "text/x-python",
   "name": "python",
   "nbconvert_exporter": "python",
   "pygments_lexer": "ipython3",
   "version": "3.12.4"
  }
 },
 "nbformat": 4,
 "nbformat_minor": 5
}
