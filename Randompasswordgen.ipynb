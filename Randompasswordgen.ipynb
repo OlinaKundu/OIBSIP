{
 "cells": [
  {
   "cell_type": "code",
   "execution_count": 1,
   "id": "f4bc51ea-60b1-4b6c-84ec-8a6ae18ff0db",
   "metadata": {},
   "outputs": [],
   "source": [
    "#random password generator\n",
    "# characters: letters , numbers , symbols(punctuations)"
   ]
  },
  {
   "cell_type": "code",
   "execution_count": null,
   "id": "9c20d389-1ec3-4906-baaa-630c1ca2e15f",
   "metadata": {},
   "outputs": [],
   "source": [
    "import string\n",
    "import random\n",
    "\n",
    "pass_length = int(input(\"Enter the length of the password: \"))\n",
    "print(\"The character types you can choose from is: (1)letters (2) numbers (3) symbols.\")\n",
    "\n",
    "character_type=\"\"\n",
    "while True:\n",
    "    user_choice = int(input(\"Enter:-\\n1 for letters\\n2 for numbers\\n3 for characters\\n4 for end.\"))\n",
    "    match user_choice:\n",
    "        case 1:\n",
    "            character_type += string.ascii_letters\n",
    "        case 2:\n",
    "            character_type += string.digits\n",
    "        case 3:\n",
    "            character_type += string.punctuation\n",
    "        case 4:\n",
    "            break\n",
    "        case _:\n",
    "            print(\"Please enter a valid option.\")\n",
    "\n",
    "password=[]\n",
    "for i in range(pass_length):\n",
    "    password.append(random.choice(character_type))\n",
    "\n",
    "print(\"Your generated password is:\"+''.join(password))\n",
    "    \n",
    "            \n",
    "    "
   ]
  },
  {
   "cell_type": "code",
   "execution_count": null,
   "id": "30452e91-5f1d-4922-8a9c-8d1646982c5a",
   "metadata": {},
   "outputs": [],
   "source": []
  }
 ],
 "metadata": {
  "kernelspec": {
   "display_name": "Python 3 (ipykernel)",
   "language": "python",
   "name": "python3"
  },
  "language_info": {
   "codemirror_mode": {
    "name": "ipython",
    "version": 3
   },
   "file_extension": ".py",
   "mimetype": "text/x-python",
   "name": "python",
   "nbconvert_exporter": "python",
   "pygments_lexer": "ipython3",
   "version": "3.12.4"
  }
 },
 "nbformat": 4,
 "nbformat_minor": 5
}
