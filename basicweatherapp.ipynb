{
 "cells": [
  {
   "cell_type": "code",
   "execution_count": 159,
   "id": "f0e7ea8a-f311-4964-8faa-6fb7c790a9dd",
   "metadata": {},
   "outputs": [
    {
     "name": "stdin",
     "output_type": "stream",
     "text": [
      "Enter city:  abu dhabi\n"
     ]
    },
    {
     "name": "stdout",
     "output_type": "stream",
     "text": [
      "Weather: clear sky\n",
      "Current temperature is 37.01 and it feels like 44.01\n",
      "Humidity : 56\n",
      "Wind speed: 6.17\n"
     ]
    }
   ],
   "source": [
    "# temperature humidity and weather conditions\n",
    "\n",
    "import requests\n",
    "\n",
    "city_name = input(\"Enter city: \")\n",
    "API_key = '322a8a8d3e3e503ec13724ad2a6ba81d'\n",
    "url =f'https://api.openweathermap.org/data/2.5/weather?q={city_name}&appid={API_key}&units=metric'\n",
    "\n",
    "# running the url\n",
    "response = requests.get(url)\n",
    "if response.status_code == 200:\n",
    "    data = response.json()\n",
    "    # print(data)\n",
    "    print(f'Weather:',data['weather'][0]['description'])\n",
    "    print(f'Current temperature is',data['main']['temp'],end=' and ')\n",
    "    print(f'it feels like',data['main']['feels_like'])\n",
    "    print(f'Humidity :',data['main']['humidity'])\n",
    "    print(f'Wind speed:',data['wind']['speed'])\n",
    "    "
   ]
  },
  {
   "cell_type": "code",
   "execution_count": null,
   "id": "48fc4e3e-84e8-4cf1-b75b-498bfe1d2575",
   "metadata": {},
   "outputs": [],
   "source": []
  }
 ],
 "metadata": {
  "kernelspec": {
   "display_name": "Python 3 (ipykernel)",
   "language": "python",
   "name": "python3"
  },
  "language_info": {
   "codemirror_mode": {
    "name": "ipython",
    "version": 3
   },
   "file_extension": ".py",
   "mimetype": "text/x-python",
   "name": "python",
   "nbconvert_exporter": "python",
   "pygments_lexer": "ipython3",
   "version": "3.12.4"
  }
 },
 "nbformat": 4,
 "nbformat_minor": 5
}
